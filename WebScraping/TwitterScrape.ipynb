{
 "cells": [
  {
   "cell_type": "code",
   "execution_count": null,
   "metadata": {},
   "outputs": [],
   "source": [
    "import snscrape.modules.twitter as sntwitter\n",
    "import pandas as pd\n",
    "\n",
    "\n",
    "#specify the number of tweets you want \n",
    "maxTweets = 15000\n",
    "\n",
    "# Creating list to append tweet data to\n",
    "batch = 1000"
   ]
  },
  {
   "cell_type": "code",
   "execution_count": null,
   "metadata": {},
   "outputs": [],
   "source": [
    "# Using TwitterSearchScraper to scrape data and append tweets to list\n",
    "\n",
    "# set lang:ne to retrieve tweets in Nepali\n",
    "#set the date parameter using since and until\n",
    "until = '05-19'\n",
    "file_save_path = \"Collected/Nepali-Tweets-{}.csv\".format(until)\n",
    "\n",
    "tweets_list2 = []\n",
    "for i,tweet in enumerate(sntwitter.TwitterSearchScraper('lang:ne since:2015-04-25 until:2015-{}'.format(until)).get_items()):\n",
    "    if i>maxTweets:\n",
    "        break\n",
    "    \n",
    "    if i%batch == 0:\n",
    "        print(\"saving as csv - batch\",i/batch)\n",
    "        tweets_df2 = pd.DataFrame(tweets_list2, columns=['Date', 'Text'])\n",
    "\n",
    "        tweets_df2['Date'] = pd.to_datetime(tweets_df2['Date']).dt.date\n",
    "        tweets_df2.to_csv(file_save_path,index=False)\n",
    "        \n",
    "    tweets_list2.append([tweet.date, tweet.rawContent])\n",
    "\n",
    "# Creating a dataframe from the tweets list above\n",
    "tweets_df2 = pd.DataFrame(tweets_list2, columns=['Date', 'Text'])\n",
    "\n",
    "tweets_df2['Date'] = pd.to_datetime(tweets_df2['Date']).dt.date\n",
    "#save the tweets to a csv file \n",
    "tweets_df2.to_csv(file_save_path,index=False)"
   ]
  },
  {
   "cell_type": "code",
   "execution_count": null,
   "metadata": {},
   "outputs": [],
   "source": [
    "tweets_df2.shape"
   ]
  },
  {
   "cell_type": "code",
   "execution_count": null,
   "metadata": {},
   "outputs": [],
   "source": [
    "tweets_df2"
   ]
  },
  {
   "cell_type": "code",
   "execution_count": null,
   "metadata": {},
   "outputs": [],
   "source": []
  }
 ],
 "metadata": {
  "kernelspec": {
   "display_name": "TwitterScrape",
   "language": "python",
   "name": "python3"
  },
  "language_info": {
   "codemirror_mode": {
    "name": "ipython",
    "version": 3
   },
   "file_extension": ".py",
   "mimetype": "text/x-python",
   "name": "python",
   "nbconvert_exporter": "python",
   "pygments_lexer": "ipython3",
   "version": "3.10.11"
  },
  "orig_nbformat": 4
 },
 "nbformat": 4,
 "nbformat_minor": 2
}
