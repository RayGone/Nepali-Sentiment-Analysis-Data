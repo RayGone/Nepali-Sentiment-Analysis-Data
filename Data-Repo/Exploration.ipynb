{
 "cells": [
  {
   "cell_type": "code",
   "execution_count": 1,
   "metadata": {},
   "outputs": [],
   "source": [
    "import pandas as pd"
   ]
  },
  {
   "cell_type": "markdown",
   "metadata": {},
   "source": [
    "# Data Exploration & Cleaning\n",
    "**Expected Labels after cleaning**\n",
    "|id&nbsp;&nbsp;&nbsp;&nbsp;|label&nbsp;&nbsp;&nbsp;&nbsp;|\n",
    "|--|-----|\n",
    "|0&nbsp;&nbsp;&nbsp;&nbsp;|Negative&nbsp;&nbsp;&nbsp;&nbsp;|\n",
    "|1&nbsp;&nbsp;&nbsp;&nbsp;|Positive&nbsp;&nbsp;&nbsp;&nbsp;|\n",
    "|2&nbsp;&nbsp;&nbsp;&nbsp;|Neutral&nbsp;&nbsp;&nbsp;&nbsp;|"
   ]
  },
  {
   "cell_type": "markdown",
   "metadata": {},
   "source": [
    "## Movie Review"
   ]
  },
  {
   "cell_type": "code",
   "execution_count": 2,
   "metadata": {},
   "outputs": [
    {
     "data": {
      "text/html": [
       "<div>\n",
       "<style scoped>\n",
       "    .dataframe tbody tr th:only-of-type {\n",
       "        vertical-align: middle;\n",
       "    }\n",
       "\n",
       "    .dataframe tbody tr th {\n",
       "        vertical-align: top;\n",
       "    }\n",
       "\n",
       "    .dataframe thead th {\n",
       "        text-align: right;\n",
       "    }\n",
       "</style>\n",
       "<table border=\"1\" class=\"dataframe\">\n",
       "  <thead>\n",
       "    <tr style=\"text-align: right;\">\n",
       "      <th></th>\n",
       "      <th>Reviews</th>\n",
       "      <th>Emotion</th>\n",
       "    </tr>\n",
       "  </thead>\n",
       "  <tbody>\n",
       "    <tr>\n",
       "      <th>0</th>\n",
       "      <td>म एक शिक्षक , शिक्षा क्षेत्रमा रमाएको मान्छे ।...</td>\n",
       "      <td>1</td>\n",
       "    </tr>\n",
       "    <tr>\n",
       "      <th>1</th>\n",
       "      <td>म सरकारी स्कूल/कलेजमा पढेर करीब १२ बर्ष भन्दा ...</td>\n",
       "      <td>1</td>\n",
       "    </tr>\n",
       "    <tr>\n",
       "      <th>2</th>\n",
       "      <td>कति राम्रो शिव मन्दिर देख्न पाइयो कुन ठाउको हो...</td>\n",
       "      <td>1</td>\n",
       "    </tr>\n",
       "    <tr>\n",
       "      <th>3</th>\n",
       "      <td>मारुनी भन्ने वितिकै सामान्य नाचनीमा आधारित कथा...</td>\n",
       "      <td>1</td>\n",
       "    </tr>\n",
       "    <tr>\n",
       "      <th>4</th>\n",
       "      <td>यो फ्लिम हेरिसकेपछी थाहा भयो कि किन दर्सकहरुले...</td>\n",
       "      <td>1</td>\n",
       "    </tr>\n",
       "  </tbody>\n",
       "</table>\n",
       "</div>"
      ],
      "text/plain": [
       "                                             Reviews  Emotion\n",
       "0  म एक शिक्षक , शिक्षा क्षेत्रमा रमाएको मान्छे ।...        1\n",
       "1  म सरकारी स्कूल/कलेजमा पढेर करीब १२ बर्ष भन्दा ...        1\n",
       "2  कति राम्रो शिव मन्दिर देख्न पाइयो कुन ठाउको हो...        1\n",
       "3  मारुनी भन्ने वितिकै सामान्य नाचनीमा आधारित कथा...        1\n",
       "4  यो फ्लिम हेरिसकेपछी थाहा भयो कि किन दर्सकहरुले...        1"
      ]
     },
     "execution_count": 2,
     "metadata": {},
     "output_type": "execute_result"
    }
   ],
   "source": [
    "# !pip install openpyxl\n",
    "mr_data = pd.read_excel(\"source-MovieReviews/train.xlsx\")\n",
    "mr_data.head(5)"
   ]
  },
  {
   "cell_type": "code",
   "execution_count": 3,
   "metadata": {},
   "outputs": [
    {
     "data": {
      "text/html": [
       "<div>\n",
       "<style scoped>\n",
       "    .dataframe tbody tr th:only-of-type {\n",
       "        vertical-align: middle;\n",
       "    }\n",
       "\n",
       "    .dataframe tbody tr th {\n",
       "        vertical-align: top;\n",
       "    }\n",
       "\n",
       "    .dataframe thead th {\n",
       "        text-align: right;\n",
       "    }\n",
       "</style>\n",
       "<table border=\"1\" class=\"dataframe\">\n",
       "  <thead>\n",
       "    <tr style=\"text-align: right;\">\n",
       "      <th></th>\n",
       "      <th>text</th>\n",
       "      <th>label</th>\n",
       "    </tr>\n",
       "  </thead>\n",
       "  <tbody>\n",
       "    <tr>\n",
       "      <th>0</th>\n",
       "      <td>म एक शिक्षक , शिक्षा क्षेत्रमा रमाएको मान्छे ।...</td>\n",
       "      <td>1</td>\n",
       "    </tr>\n",
       "    <tr>\n",
       "      <th>1</th>\n",
       "      <td>म सरकारी स्कूल/कलेजमा पढेर करीब १२ बर्ष भन्दा ...</td>\n",
       "      <td>1</td>\n",
       "    </tr>\n",
       "    <tr>\n",
       "      <th>2</th>\n",
       "      <td>कति राम्रो शिव मन्दिर देख्न पाइयो कुन ठाउको हो...</td>\n",
       "      <td>1</td>\n",
       "    </tr>\n",
       "    <tr>\n",
       "      <th>3</th>\n",
       "      <td>मारुनी भन्ने वितिकै सामान्य नाचनीमा आधारित कथा...</td>\n",
       "      <td>1</td>\n",
       "    </tr>\n",
       "    <tr>\n",
       "      <th>4</th>\n",
       "      <td>यो फ्लिम हेरिसकेपछी थाहा भयो कि किन दर्सकहरुले...</td>\n",
       "      <td>1</td>\n",
       "    </tr>\n",
       "  </tbody>\n",
       "</table>\n",
       "</div>"
      ],
      "text/plain": [
       "                                                text  label\n",
       "0  म एक शिक्षक , शिक्षा क्षेत्रमा रमाएको मान्छे ।...      1\n",
       "1  म सरकारी स्कूल/कलेजमा पढेर करीब १२ बर्ष भन्दा ...      1\n",
       "2  कति राम्रो शिव मन्दिर देख्न पाइयो कुन ठाउको हो...      1\n",
       "3  मारुनी भन्ने वितिकै सामान्य नाचनीमा आधारित कथा...      1\n",
       "4  यो फ्लिम हेरिसकेपछी थाहा भयो कि किन दर्सकहरुले...      1"
      ]
     },
     "execution_count": 3,
     "metadata": {},
     "output_type": "execute_result"
    }
   ],
   "source": [
    "mr_data.rename(columns={\"Reviews\":\"text\",\"Emotion\":\"label\"},inplace=True)\n",
    "mr_data.head(5)"
   ]
  },
  {
   "cell_type": "code",
   "execution_count": 4,
   "metadata": {},
   "outputs": [
    {
     "data": {
      "text/plain": [
       "label\n",
       "1    367\n",
       "0    235\n",
       "Name: count, dtype: int64"
      ]
     },
     "execution_count": 4,
     "metadata": {},
     "output_type": "execute_result"
    }
   ],
   "source": [
    "mr_data['label'].value_counts()\n",
    "# 0 -> Negative\n",
    "# 1 -> Positive"
   ]
  },
  {
   "cell_type": "code",
   "execution_count": 5,
   "metadata": {},
   "outputs": [],
   "source": [
    "## you can save this label cleaned dataset separately\n",
    "# mr_data.to_csv(\"source-MovieReviews/train.csv\")"
   ]
  },
  {
   "cell_type": "markdown",
   "metadata": {},
   "source": [
    "## NepCov19Tweets"
   ]
  },
  {
   "cell_type": "code",
   "execution_count": 5,
   "metadata": {},
   "outputs": [
    {
     "name": "stdout",
     "output_type": "stream",
     "text": [
      "(33474, 5)\n"
     ]
    },
    {
     "data": {
      "text/html": [
       "<div>\n",
       "<style scoped>\n",
       "    .dataframe tbody tr th:only-of-type {\n",
       "        vertical-align: middle;\n",
       "    }\n",
       "\n",
       "    .dataframe tbody tr th {\n",
       "        vertical-align: top;\n",
       "    }\n",
       "\n",
       "    .dataframe thead th {\n",
       "        text-align: right;\n",
       "    }\n",
       "</style>\n",
       "<table border=\"1\" class=\"dataframe\">\n",
       "  <thead>\n",
       "    <tr style=\"text-align: right;\">\n",
       "      <th></th>\n",
       "      <th>Unnamed: 0</th>\n",
       "      <th>Label</th>\n",
       "      <th>Datetime</th>\n",
       "      <th>Tweet</th>\n",
       "      <th>Tokanize_tweet</th>\n",
       "    </tr>\n",
       "  </thead>\n",
       "  <tbody>\n",
       "    <tr>\n",
       "      <th>0</th>\n",
       "      <td>0</td>\n",
       "      <td>-1</td>\n",
       "      <td>2021-01-10 22:06:41+00:00</td>\n",
       "      <td>अमेरिकामा कोभिड बाट एकै दिन चार हजारभन्दा बढीक...</td>\n",
       "      <td>अमेरिकामा,कोभिड,बाट,एकै,दिन,चार,हजारभन्दा,बढीक...</td>\n",
       "    </tr>\n",
       "    <tr>\n",
       "      <th>1</th>\n",
       "      <td>1</td>\n",
       "      <td>-1</td>\n",
       "      <td>2021-01-10 17:49:34+00:00</td>\n",
       "      <td>कोभिड का कारण विदेशमा रहेका नेपालीहरुमा मानसिक...</td>\n",
       "      <td>कोभिड,का,कारण,विदेशमा,रहेका,नेपालीहरुमा,मानसिक...</td>\n",
       "    </tr>\n",
       "    <tr>\n",
       "      <th>2</th>\n",
       "      <td>2</td>\n",
       "      <td>1</td>\n",
       "      <td>2021-01-10 16:18:34+00:00</td>\n",
       "      <td>नेपालमा क्लोभर बायोफार्मास्युटिकल्स अस्ट्रेलिय...</td>\n",
       "      <td>नेपालमा,क्लोभर,बायोफार्मास्युटिकल्स,अस्ट्रेलिय...</td>\n",
       "    </tr>\n",
       "    <tr>\n",
       "      <th>3</th>\n",
       "      <td>3</td>\n",
       "      <td>0</td>\n",
       "      <td>2021-01-10 15:12:17+00:00</td>\n",
       "      <td>कोभिड को खोप पनि लगाइयो</td>\n",
       "      <td>कोभिड,को,खोप,पनि,लगाइयो</td>\n",
       "    </tr>\n",
       "    <tr>\n",
       "      <th>4</th>\n",
       "      <td>4</td>\n",
       "      <td>-1</td>\n",
       "      <td>2021-01-10 15:07:12+00:00</td>\n",
       "      <td>अमेरिकामा कोभिड को नयाँ रेकर्ड एकै दिन हजारभन्...</td>\n",
       "      <td>अमेरिकामा,कोभिड,को,नयाँ,रेकर्ड,एकै,दिन,हजारभन्...</td>\n",
       "    </tr>\n",
       "  </tbody>\n",
       "</table>\n",
       "</div>"
      ],
      "text/plain": [
       "   Unnamed: 0 Label                   Datetime  \\\n",
       "0           0    -1  2021-01-10 22:06:41+00:00   \n",
       "1           1    -1  2021-01-10 17:49:34+00:00   \n",
       "2           2     1  2021-01-10 16:18:34+00:00   \n",
       "3           3     0  2021-01-10 15:12:17+00:00   \n",
       "4           4    -1  2021-01-10 15:07:12+00:00   \n",
       "\n",
       "                                               Tweet  \\\n",
       "0  अमेरिकामा कोभिड बाट एकै दिन चार हजारभन्दा बढीक...   \n",
       "1  कोभिड का कारण विदेशमा रहेका नेपालीहरुमा मानसिक...   \n",
       "2  नेपालमा क्लोभर बायोफार्मास्युटिकल्स अस्ट्रेलिय...   \n",
       "3                            कोभिड को खोप पनि लगाइयो   \n",
       "4  अमेरिकामा कोभिड को नयाँ रेकर्ड एकै दिन हजारभन्...   \n",
       "\n",
       "                                      Tokanize_tweet  \n",
       "0  अमेरिकामा,कोभिड,बाट,एकै,दिन,चार,हजारभन्दा,बढीक...  \n",
       "1  कोभिड,का,कारण,विदेशमा,रहेका,नेपालीहरुमा,मानसिक...  \n",
       "2  नेपालमा,क्लोभर,बायोफार्मास्युटिकल्स,अस्ट्रेलिय...  \n",
       "3                            कोभिड,को,खोप,पनि,लगाइयो  \n",
       "4  अमेरिकामा,कोभिड,को,नयाँ,रेकर्ड,एकै,दिन,हजारभन्...  "
      ]
     },
     "execution_count": 5,
     "metadata": {},
     "output_type": "execute_result"
    }
   ],
   "source": [
    "nepCov_data = pd.read_csv(\"source-NepCov19Tweets/train.csv\")\n",
    "print(nepCov_data.shape)\n",
    "nepCov_data.head(5)"
   ]
  },
  {
   "cell_type": "code",
   "execution_count": 6,
   "metadata": {},
   "outputs": [
    {
     "data": {
      "text/html": [
       "<div>\n",
       "<style scoped>\n",
       "    .dataframe tbody tr th:only-of-type {\n",
       "        vertical-align: middle;\n",
       "    }\n",
       "\n",
       "    .dataframe tbody tr th {\n",
       "        vertical-align: top;\n",
       "    }\n",
       "\n",
       "    .dataframe thead th {\n",
       "        text-align: right;\n",
       "    }\n",
       "</style>\n",
       "<table border=\"1\" class=\"dataframe\">\n",
       "  <thead>\n",
       "    <tr style=\"text-align: right;\">\n",
       "      <th></th>\n",
       "      <th>text</th>\n",
       "      <th>label</th>\n",
       "    </tr>\n",
       "  </thead>\n",
       "  <tbody>\n",
       "    <tr>\n",
       "      <th>0</th>\n",
       "      <td>अमेरिकामा कोभिड बाट एकै दिन चार हजारभन्दा बढीक...</td>\n",
       "      <td>-1</td>\n",
       "    </tr>\n",
       "    <tr>\n",
       "      <th>1</th>\n",
       "      <td>कोभिड का कारण विदेशमा रहेका नेपालीहरुमा मानसिक...</td>\n",
       "      <td>-1</td>\n",
       "    </tr>\n",
       "    <tr>\n",
       "      <th>2</th>\n",
       "      <td>नेपालमा क्लोभर बायोफार्मास्युटिकल्स अस्ट्रेलिय...</td>\n",
       "      <td>1</td>\n",
       "    </tr>\n",
       "    <tr>\n",
       "      <th>3</th>\n",
       "      <td>कोभिड को खोप पनि लगाइयो</td>\n",
       "      <td>0</td>\n",
       "    </tr>\n",
       "    <tr>\n",
       "      <th>4</th>\n",
       "      <td>अमेरिकामा कोभिड को नयाँ रेकर्ड एकै दिन हजारभन्...</td>\n",
       "      <td>-1</td>\n",
       "    </tr>\n",
       "  </tbody>\n",
       "</table>\n",
       "</div>"
      ],
      "text/plain": [
       "                                                text label\n",
       "0  अमेरिकामा कोभिड बाट एकै दिन चार हजारभन्दा बढीक...    -1\n",
       "1  कोभिड का कारण विदेशमा रहेका नेपालीहरुमा मानसिक...    -1\n",
       "2  नेपालमा क्लोभर बायोफार्मास्युटिकल्स अस्ट्रेलिय...     1\n",
       "3                            कोभिड को खोप पनि लगाइयो     0\n",
       "4  अमेरिकामा कोभिड को नयाँ रेकर्ड एकै दिन हजारभन्...    -1"
      ]
     },
     "execution_count": 6,
     "metadata": {},
     "output_type": "execute_result"
    }
   ],
   "source": [
    "nepCov_data = nepCov_data[['Tweet','Label']].rename(columns={\"Tweet\":\"text\",\"Label\":\"label\"})\n",
    "nepCov_data.head(5)"
   ]
  },
  {
   "cell_type": "code",
   "execution_count": 7,
   "metadata": {},
   "outputs": [
    {
     "data": {
      "text/plain": [
       "label\n",
       "1                                                                                                                                                                                                                                                                                                   14982\n",
       "-1                                                                                                                                                                                                                                                                                                  13593\n",
       "0                                                                                                                                                                                                                                                                                                    4860\n",
       "neutral\"\"                                                                                                                                                                                                                                                                                               6\n",
       "positive\"\"                                                                                                                                                                                                                                                                                              5\n",
       "positive\"                                                                                                                                                                                                                                                                                               1\n",
       "neutral'\\n15732,2020-06-02 17:35:36+00:00,नेपालमा कोरोना संक्रमित हुनेको संख्या दिनदिनै बढिरहेको छ स्वास्थ्य मन्त्रालयका अनुसार अहिले नेपालमा एक हजार सक्रिय संक्रमित छन् कोभिड कोरोना,नेपालमा                                                                                                          1\n",
       "positive'\\n16721,2020-05-26 10:29:31+00:00,नेपालमा साना तथा मध्यम व्यवसाय प्रवर्द्धनमा आईएफसीले सघाउने विश्व ब्याङ्क अन्तर्गतको अन्तर्राष्ट्रिय वित्त निगम आईएफसी ले कोरोनाभाइरस कोभिड बाट शिथिल नेपाली निजी क्षेत्रलाई गतिशील बनाउन सहयोग गर्ने जनाएको छ,नेपालमा                                       1\n",
       "neutral'\\n16871,2020-05-25 10:19:06+00:00,प्रधानमन्त्री केपी शर्मा ओलीले कोभिड को हालसम्मको अवस्था र अबका रणनीति बारे बिशेष जानकारी गराउन राष्ट्रका नाममा सम्बोधन गर्ने भएका छन्,प्रधानमन्त्री                                                                                                          1\n",
       "positive'\\n17241,2020-05-22 09:35:31+00:00,कोभिड ले बच्चामा पारेका पाँच असर यसरी गर्न सकिन्छ व्यवस्थापन,कोभिड                                                                                                                                                                                           1\n",
       "positve                                                                                                                                                                                                                                                                                                 1\n",
       "Negative                                                                                                                                                                                                                                                                                                1\n",
       "neutrals                                                                                                                                                                                                                                                                                                1\n",
       "-0--                                                                                                                                                                                                                                                                                                    1\n",
       "-1 26122                                                                                                                                                                                                                                                                                                1\n",
       "31932                                                                                                                                                                                                                                                                                                   1\n",
       "-1 32694                                                                                                                                                                                                                                                                                                1\n",
       "neutral'\\n14892,2020-06-08 09:15:44+00:00,कोभिड को महामारीका कारण भारतबाट बाँकेस्थित जमुनाहा नाका भएर घर फर्किरहेकाहरुका लागि हामीले खानेकुरा पानी र स्वास्थ्य सामग्रीको व्यवस्था गरेका छौं हजार व्यक्तिहरुलाई खानेकुरा खुवाउने लक्ष्य हाम्रो छ मिलेरै लडौ कोरोना भगाउन,कोभिड                           1\n",
       "positive'\\n12095,2020-07-11 02:19:33+00:00,चीनबाटै सुरु भएको कोभिड महामारी पुन फैलिन थालेपछि सन् का लागि तय भएका सबै अन्तर्राष्ट्रिय खेलकुद रद्द भएका छन् चीन अन्तर्राष्ट्रिय प्रतियोगिता रद्द,चीनबाटै                                                                                                  1\n",
       "positives                                                                                                                                                                                                                                                                                               1\n",
       "positive'\\n12120,2020-07-10 16:07:25+00:00,विश्वमा कोभिड को महामारी र लकडाउनले बन्द भएका होटलले होटल श्रमिक अहिले बडो मर्कामा छन् उनीहरूले महिना देखि तलव पाएको छैन होटल महासंघ नेपाल हान लाई आफ्नो होटल व्यवसाय चलाई दिने श्रमिक को केहि चिन्ता छैन फलस्वरूप होटल श्रमिक भोकै छन् अहिले,विश्वमा        1\n",
       "negative'\\n12038,2020-07-11 14:36:23+00:00,कोभिड जस्तो महामारी सायद दशकमा एकचोटि आउला तर बाढीपहिरोले प्रत्येक बर्ष कैयौंको ज्यान लिने र धेरैलाई घरबार बिहिन बनाइदिन्छ यो प्राकृतिक प्रकोपलाई अहिलेको महामारी कोभिड भन्दा बढी प्राथमिकता दिन जरुरी छ,कोभिड                                               1\n",
       "negative'\\n12033,2020-07-11 16:35:47+00:00,कोभिड जनस्वास्थ्यका मापदण्ड पालना गर्न अपिल,कोभिड                                                                                                                                                                                                            1\n",
       "negative'\\n12028,2020-07-12 01:50:59+00:00,कोभिड विश्वमा संक्रमणबाट ज्यान जानेको संख्या पाँच लाख हजार नाघ्यो,कोभिड                                                                                                                                                                                      1\n",
       "negative'\\n12025,2020-07-12 02:23:32+00:00,अमिताभ बच्चन र उहाँको छोरो पनि कोभिड संक्रमित भएका छन् उहाँहरू को स्वास्थ्य लाभको कामना सचेत रहौं सुरक्षित रहौं,अमिताभ                                                                                                                                       1\n",
       "negative'\\n12021,2020-07-12 03:12:24+00:00,कोरोना भाइरस कोभिड को महामारी फैलिएयता अमेरिकी राष्ट्रपति डोनाल्ड ट्रम्प पहिलो पटक मास्कमा देखिएका छन्,कोरोना                                                                                                                                                1\n",
       "मन्त्रीज्यू,यदि,कतै,वहाँले,भने,जस्तो,स्थिति,रहेछ,भने,बाट,यस्तोयस्तो,अवस्थामा,कोभिड,निशुल्क,परिक्षण,यहाँ,यहाँ,बाट,हुन्छ,भनेर,एउटा,जनहितमा,सुचना,जारी,गर्न,पहल,गर्नुभए,हुन्थ्यो                                                                                                                           1\n",
       "negative\"\\n6179,2020-09-14 09:24:43+00:00,कोभिड को त्रासले आर्थिक मारमा शहरी गरिब बालबालिका पढेर प्रतिक्रिया दिनुहोला,कोभिड                                                                                                                                                                             1\n",
       ",negative\"\"                                                                                                                                                                                                                                                                                             1\n",
       "positive'\\n3929,2020-10-16 12:15:51+00:00,भक्तपुर जिल्ला भित्रका सबै शक्तिपिठ तथा मन्दिरहरूमा नित्य पूजा बाहेक बली दिने दर्शनका लागि भीडभाड गर्ने लगायत कोभिड को संक्रमण फैलन सक्ने अन्य गतिबिधि गर्न निषेध गरिएको सूचना असोज,भक्तपुर                                                                   1\n",
       ";positive                                                                                                                                                                                                                                                                                               1\n",
       "negative\"                                                                                                                                                                                                                                                                                               1\n",
       "31                                                                                                                                                                                                                                                                                                      1\n",
       "Name: count, dtype: int64"
      ]
     },
     "execution_count": 7,
     "metadata": {},
     "output_type": "execute_result"
    }
   ],
   "source": [
    "nepCov_data['label'].value_counts()"
   ]
  },
  {
   "cell_type": "code",
   "execution_count": 8,
   "metadata": {},
   "outputs": [
    {
     "name": "stdout",
     "output_type": "stream",
     "text": [
      "label\n",
      "1    14996\n",
      "0    13601\n",
      "2     4870\n",
      "Name: count, dtype: int64\n",
      "text     object\n",
      "label    object\n",
      "dtype: object\n",
      "(33467, 2)\n"
     ]
    },
    {
     "data": {
      "text/html": [
       "<div>\n",
       "<style scoped>\n",
       "    .dataframe tbody tr th:only-of-type {\n",
       "        vertical-align: middle;\n",
       "    }\n",
       "\n",
       "    .dataframe tbody tr th {\n",
       "        vertical-align: top;\n",
       "    }\n",
       "\n",
       "    .dataframe thead th {\n",
       "        text-align: right;\n",
       "    }\n",
       "</style>\n",
       "<table border=\"1\" class=\"dataframe\">\n",
       "  <thead>\n",
       "    <tr style=\"text-align: right;\">\n",
       "      <th></th>\n",
       "      <th>text</th>\n",
       "      <th>label</th>\n",
       "    </tr>\n",
       "  </thead>\n",
       "  <tbody>\n",
       "    <tr>\n",
       "      <th>0</th>\n",
       "      <td>अमेरिकामा कोभिड बाट एकै दिन चार हजारभन्दा बढीक...</td>\n",
       "      <td>0</td>\n",
       "    </tr>\n",
       "    <tr>\n",
       "      <th>1</th>\n",
       "      <td>कोभिड का कारण विदेशमा रहेका नेपालीहरुमा मानसिक...</td>\n",
       "      <td>0</td>\n",
       "    </tr>\n",
       "    <tr>\n",
       "      <th>2</th>\n",
       "      <td>नेपालमा क्लोभर बायोफार्मास्युटिकल्स अस्ट्रेलिय...</td>\n",
       "      <td>1</td>\n",
       "    </tr>\n",
       "    <tr>\n",
       "      <th>3</th>\n",
       "      <td>कोभिड को खोप पनि लगाइयो</td>\n",
       "      <td>2</td>\n",
       "    </tr>\n",
       "    <tr>\n",
       "      <th>4</th>\n",
       "      <td>अमेरिकामा कोभिड को नयाँ रेकर्ड एकै दिन हजारभन्...</td>\n",
       "      <td>0</td>\n",
       "    </tr>\n",
       "  </tbody>\n",
       "</table>\n",
       "</div>"
      ],
      "text/plain": [
       "                                                text label\n",
       "0  अमेरिकामा कोभिड बाट एकै दिन चार हजारभन्दा बढीक...     0\n",
       "1  कोभिड का कारण विदेशमा रहेका नेपालीहरुमा मानसिक...     0\n",
       "2  नेपालमा क्लोभर बायोफार्मास्युटिकल्स अस्ट्रेलिय...     1\n",
       "3                            कोभिड को खोप पनि लगाइयो     2\n",
       "4  अमेरिकामा कोभिड को नयाँ रेकर्ड एकै दिन हजारभन्...     0"
      ]
     },
     "execution_count": 8,
     "metadata": {},
     "output_type": "execute_result"
    }
   ],
   "source": [
    "nepCov_data.loc[(nepCov_data['label'] == '0') | nepCov_data['label'].str.contains('neu'),'label'] = 2 # Neutral\n",
    "nepCov_data.loc[(nepCov_data['label'] == '-1') | nepCov_data['label'].str.contains('neg'),'label'] = 0 # Negative\n",
    "nepCov_data.loc[(nepCov_data['label'] == '1') | nepCov_data['label'].str.contains('pos'),'label'] = 1 # Positive\n",
    "nepCov_data = nepCov_data[nepCov_data['label'].isin((0,1,2))]\n",
    "print(nepCov_data['label'].value_counts())\n",
    "print(nepCov_data.dtypes)\n",
    "print(nepCov_data.shape)\n",
    "## you can save this label cleaned dataset separately\n",
    "nepCov_data.head(5)"
   ]
  },
  {
   "cell_type": "markdown",
   "metadata": {},
   "source": [
    "## NepQuake15\n",
    "**This data set is being annotated within this project. Checkout *NepQuake15* and *Annotator* directory.**"
   ]
  },
  {
   "cell_type": "code",
   "execution_count": 10,
   "metadata": {},
   "outputs": [
    {
     "name": "stdout",
     "output_type": "stream",
     "text": [
      "(3730, 4)\n"
     ]
    },
    {
     "data": {
      "text/html": [
       "<div>\n",
       "<style scoped>\n",
       "    .dataframe tbody tr th:only-of-type {\n",
       "        vertical-align: middle;\n",
       "    }\n",
       "\n",
       "    .dataframe tbody tr th {\n",
       "        vertical-align: top;\n",
       "    }\n",
       "\n",
       "    .dataframe thead th {\n",
       "        text-align: right;\n",
       "    }\n",
       "</style>\n",
       "<table border=\"1\" class=\"dataframe\">\n",
       "  <thead>\n",
       "    <tr style=\"text-align: right;\">\n",
       "      <th></th>\n",
       "      <th>Date</th>\n",
       "      <th>Text</th>\n",
       "      <th>label</th>\n",
       "      <th>label_id</th>\n",
       "    </tr>\n",
       "  </thead>\n",
       "  <tbody>\n",
       "    <tr>\n",
       "      <th>0</th>\n",
       "      <td>2015-04-25</td>\n",
       "      <td>यस्तो बेला पनी लुटपाट भन्ने सुनीयो.थुक्क यस्ता...</td>\n",
       "      <td>NEGATIVE</td>\n",
       "      <td>2.0</td>\n",
       "    </tr>\n",
       "    <tr>\n",
       "      <th>1</th>\n",
       "      <td>2015-04-25</td>\n",
       "      <td>हाम्रो देशको तत्कालीन अवश्थालाई मध्यनजर गर्दै ...</td>\n",
       "      <td>POSITIVE</td>\n",
       "      <td>1.0</td>\n",
       "    </tr>\n",
       "    <tr>\n",
       "      <th>2</th>\n",
       "      <td>2015-04-25</td>\n",
       "      <td>धेरै चोटि फोन गरें तै पनि सम्पर्ल भै रहेको छैन...</td>\n",
       "      <td>POSITIVE</td>\n",
       "      <td>1.0</td>\n",
       "    </tr>\n",
       "    <tr>\n",
       "      <th>3</th>\n",
       "      <td>2015-04-25</td>\n",
       "      <td>चौरमा त्रिपाल गाडेर यो अवस्थमा राखियको छ मेरो ...</td>\n",
       "      <td>NEGATIVE</td>\n",
       "      <td>2.0</td>\n",
       "    </tr>\n",
       "    <tr>\n",
       "      <th>4</th>\n",
       "      <td>2015-04-25</td>\n",
       "      <td>आफू तेति सारो भुकम्प प्रभावित क्षेत्रमा नभए पन...</td>\n",
       "      <td>NEGATIVE</td>\n",
       "      <td>2.0</td>\n",
       "    </tr>\n",
       "  </tbody>\n",
       "</table>\n",
       "</div>"
      ],
      "text/plain": [
       "         Date                                               Text     label  \\\n",
       "0  2015-04-25  यस्तो बेला पनी लुटपाट भन्ने सुनीयो.थुक्क यस्ता...  NEGATIVE   \n",
       "1  2015-04-25  हाम्रो देशको तत्कालीन अवश्थालाई मध्यनजर गर्दै ...  POSITIVE   \n",
       "2  2015-04-25  धेरै चोटि फोन गरें तै पनि सम्पर्ल भै रहेको छैन...  POSITIVE   \n",
       "3  2015-04-25  चौरमा त्रिपाल गाडेर यो अवस्थमा राखियको छ मेरो ...  NEGATIVE   \n",
       "4  2015-04-25  आफू तेति सारो भुकम्प प्रभावित क्षेत्रमा नभए पन...  NEGATIVE   \n",
       "\n",
       "   label_id  \n",
       "0       2.0  \n",
       "1       1.0  \n",
       "2       1.0  \n",
       "3       2.0  \n",
       "4       2.0  "
      ]
     },
     "execution_count": 10,
     "metadata": {},
     "output_type": "execute_result"
    }
   ],
   "source": [
    "nqk_data = pd.read_csv('../NepQuake15/annotated.csv')\n",
    "print(nqk_data.shape)\n",
    "nqk_data.head(5)"
   ]
  },
  {
   "cell_type": "code",
   "execution_count": 11,
   "metadata": {},
   "outputs": [],
   "source": [
    "nqk_data.loc[nqk_data['label'] == 'NEGATIVE', 'label'] = 0\n",
    "nqk_data.loc[nqk_data['label'] == 'POSITIVE', 'label'] = 1\n",
    "nqk_data.loc[nqk_data['label'] == 'NEUTRAL', 'label'] = 2"
   ]
  },
  {
   "cell_type": "code",
   "execution_count": 12,
   "metadata": {},
   "outputs": [
    {
     "name": "stdout",
     "output_type": "stream",
     "text": [
      "(2449, 4)\n"
     ]
    },
    {
     "data": {
      "text/plain": [
       "label\n",
       "2    1012\n",
       "0     868\n",
       "1     569\n",
       "Name: count, dtype: int64"
      ]
     },
     "execution_count": 12,
     "metadata": {},
     "output_type": "execute_result"
    }
   ],
   "source": [
    "nqk_data.drop_duplicates(inplace=True,ignore_index=True)\n",
    "print(nqk_data.shape)\n",
    "nqk_data['label'].value_counts()"
   ]
  },
  {
   "cell_type": "code",
   "execution_count": 13,
   "metadata": {},
   "outputs": [
    {
     "data": {
      "text/html": [
       "<div>\n",
       "<style scoped>\n",
       "    .dataframe tbody tr th:only-of-type {\n",
       "        vertical-align: middle;\n",
       "    }\n",
       "\n",
       "    .dataframe tbody tr th {\n",
       "        vertical-align: top;\n",
       "    }\n",
       "\n",
       "    .dataframe thead th {\n",
       "        text-align: right;\n",
       "    }\n",
       "</style>\n",
       "<table border=\"1\" class=\"dataframe\">\n",
       "  <thead>\n",
       "    <tr style=\"text-align: right;\">\n",
       "      <th></th>\n",
       "      <th>text</th>\n",
       "      <th>label</th>\n",
       "    </tr>\n",
       "  </thead>\n",
       "  <tbody>\n",
       "    <tr>\n",
       "      <th>0</th>\n",
       "      <td>यस्तो बेला पनी लुटपाट भन्ने सुनीयो.थुक्क यस्ता...</td>\n",
       "      <td>0</td>\n",
       "    </tr>\n",
       "    <tr>\n",
       "      <th>1</th>\n",
       "      <td>हाम्रो देशको तत्कालीन अवश्थालाई मध्यनजर गर्दै ...</td>\n",
       "      <td>1</td>\n",
       "    </tr>\n",
       "    <tr>\n",
       "      <th>2</th>\n",
       "      <td>धेरै चोटि फोन गरें तै पनि सम्पर्ल भै रहेको छैन...</td>\n",
       "      <td>1</td>\n",
       "    </tr>\n",
       "    <tr>\n",
       "      <th>3</th>\n",
       "      <td>चौरमा त्रिपाल गाडेर यो अवस्थमा राखियको छ मेरो ...</td>\n",
       "      <td>0</td>\n",
       "    </tr>\n",
       "    <tr>\n",
       "      <th>4</th>\n",
       "      <td>आफू तेति सारो भुकम्प प्रभावित क्षेत्रमा नभए पन...</td>\n",
       "      <td>0</td>\n",
       "    </tr>\n",
       "  </tbody>\n",
       "</table>\n",
       "</div>"
      ],
      "text/plain": [
       "                                                text label\n",
       "0  यस्तो बेला पनी लुटपाट भन्ने सुनीयो.थुक्क यस्ता...     0\n",
       "1  हाम्रो देशको तत्कालीन अवश्थालाई मध्यनजर गर्दै ...     1\n",
       "2  धेरै चोटि फोन गरें तै पनि सम्पर्ल भै रहेको छैन...     1\n",
       "3  चौरमा त्रिपाल गाडेर यो अवस्थमा राखियको छ मेरो ...     0\n",
       "4  आफू तेति सारो भुकम्प प्रभावित क्षेत्रमा नभए पन...     0"
      ]
     },
     "execution_count": 13,
     "metadata": {},
     "output_type": "execute_result"
    }
   ],
   "source": [
    "nqk_data['text'] = nqk_data['Text']\n",
    "nqk_data = nqk_data[['text','label']]\n",
    "## you can save this label cleaned dataset separately\n",
    "nqk_data.head(5)"
   ]
  },
  {
   "cell_type": "markdown",
   "metadata": {},
   "source": [
    "## PS_Nepali_SA"
   ]
  },
  {
   "cell_type": "code",
   "execution_count": 14,
   "metadata": {},
   "outputs": [
    {
     "name": "stdout",
     "output_type": "stream",
     "text": [
      "(6056, 3)\n"
     ]
    },
    {
     "data": {
      "text/html": [
       "<div>\n",
       "<style scoped>\n",
       "    .dataframe tbody tr th:only-of-type {\n",
       "        vertical-align: middle;\n",
       "    }\n",
       "\n",
       "    .dataframe tbody tr th {\n",
       "        vertical-align: top;\n",
       "    }\n",
       "\n",
       "    .dataframe thead th {\n",
       "        text-align: right;\n",
       "    }\n",
       "</style>\n",
       "<table border=\"1\" class=\"dataframe\">\n",
       "  <thead>\n",
       "    <tr style=\"text-align: right;\">\n",
       "      <th></th>\n",
       "      <th>Unnamed: 0</th>\n",
       "      <th>text</th>\n",
       "      <th>label</th>\n",
       "    </tr>\n",
       "  </thead>\n",
       "  <tbody>\n",
       "    <tr>\n",
       "      <th>0</th>\n",
       "      <td>1</td>\n",
       "      <td>1000 अंकले घटेको नेप्से 200 अंकले बढ्नु ठूलो क...</td>\n",
       "      <td>1</td>\n",
       "    </tr>\n",
       "    <tr>\n",
       "      <th>1</th>\n",
       "      <td>4</td>\n",
       "      <td>राम्रो भयो️️</td>\n",
       "      <td>1</td>\n",
       "    </tr>\n",
       "    <tr>\n",
       "      <th>2</th>\n",
       "      <td>6</td>\n",
       "      <td>जानकारीको लागि धन्यवाद रामहरी ब्रदर</td>\n",
       "      <td>1</td>\n",
       "    </tr>\n",
       "    <tr>\n",
       "      <th>3</th>\n",
       "      <td>18</td>\n",
       "      <td>भारत-मधेस र नेपाल-चीन सम्बन्ध विग्रन्छ, मधेसी ...</td>\n",
       "      <td>0</td>\n",
       "    </tr>\n",
       "    <tr>\n",
       "      <th>4</th>\n",
       "      <td>25</td>\n",
       "      <td>लेखनाथ न्यौपानेको खुलासा,महाधिबेशनमा एमसीसीको ...</td>\n",
       "      <td>0</td>\n",
       "    </tr>\n",
       "  </tbody>\n",
       "</table>\n",
       "</div>"
      ],
      "text/plain": [
       "   Unnamed: 0                                               text  label\n",
       "0           1  1000 अंकले घटेको नेप्से 200 अंकले बढ्नु ठूलो क...      1\n",
       "1           4                                       राम्रो भयो️️      1\n",
       "2           6                जानकारीको लागि धन्यवाद रामहरी ब्रदर      1\n",
       "3          18  भारत-मधेस र नेपाल-चीन सम्बन्ध विग्रन्छ, मधेसी ...      0\n",
       "4          25  लेखनाथ न्यौपानेको खुलासा,महाधिबेशनमा एमसीसीको ...      0"
      ]
     },
     "execution_count": 14,
     "metadata": {},
     "output_type": "execute_result"
    }
   ],
   "source": [
    "ps_data = pd.concat([pd.read_csv('source-PS_Nepali_SA/train.csv'),pd.read_csv('source-PS_Nepali_SA/test.csv')])\n",
    "print(ps_data.shape)\n",
    "ps_data.head(5)"
   ]
  },
  {
   "cell_type": "code",
   "execution_count": 15,
   "metadata": {},
   "outputs": [
    {
     "name": "stdout",
     "output_type": "stream",
     "text": [
      "(4597, 2)\n",
      "label\n",
      "1    2828\n",
      "0    1769\n",
      "Name: count, dtype: int64\n"
     ]
    },
    {
     "data": {
      "text/html": [
       "<div>\n",
       "<style scoped>\n",
       "    .dataframe tbody tr th:only-of-type {\n",
       "        vertical-align: middle;\n",
       "    }\n",
       "\n",
       "    .dataframe tbody tr th {\n",
       "        vertical-align: top;\n",
       "    }\n",
       "\n",
       "    .dataframe thead th {\n",
       "        text-align: right;\n",
       "    }\n",
       "</style>\n",
       "<table border=\"1\" class=\"dataframe\">\n",
       "  <thead>\n",
       "    <tr style=\"text-align: right;\">\n",
       "      <th></th>\n",
       "      <th>text</th>\n",
       "      <th>label</th>\n",
       "    </tr>\n",
       "  </thead>\n",
       "  <tbody>\n",
       "    <tr>\n",
       "      <th>0</th>\n",
       "      <td>1000 अंकले घटेको नेप्से 200 अंकले बढ्नु ठूलो क...</td>\n",
       "      <td>1</td>\n",
       "    </tr>\n",
       "    <tr>\n",
       "      <th>1</th>\n",
       "      <td>राम्रो भयो️️</td>\n",
       "      <td>1</td>\n",
       "    </tr>\n",
       "    <tr>\n",
       "      <th>2</th>\n",
       "      <td>जानकारीको लागि धन्यवाद रामहरी ब्रदर</td>\n",
       "      <td>1</td>\n",
       "    </tr>\n",
       "    <tr>\n",
       "      <th>3</th>\n",
       "      <td>भारत-मधेस र नेपाल-चीन सम्बन्ध विग्रन्छ, मधेसी ...</td>\n",
       "      <td>0</td>\n",
       "    </tr>\n",
       "    <tr>\n",
       "      <th>4</th>\n",
       "      <td>लेखनाथ न्यौपानेको खुलासा,महाधिबेशनमा एमसीसीको ...</td>\n",
       "      <td>0</td>\n",
       "    </tr>\n",
       "  </tbody>\n",
       "</table>\n",
       "</div>"
      ],
      "text/plain": [
       "                                                text  label\n",
       "0  1000 अंकले घटेको नेप्से 200 अंकले बढ्नु ठूलो क...      1\n",
       "1                                       राम्रो भयो️️      1\n",
       "2                जानकारीको लागि धन्यवाद रामहरी ब्रदर      1\n",
       "3  भारत-मधेस र नेपाल-चीन सम्बन्ध विग्रन्छ, मधेसी ...      0\n",
       "4  लेखनाथ न्यौपानेको खुलासा,महाधिबेशनमा एमसीसीको ...      0"
      ]
     },
     "execution_count": 15,
     "metadata": {},
     "output_type": "execute_result"
    }
   ],
   "source": [
    "ps_data.drop(columns='Unnamed: 0',inplace=True,axis=1)\n",
    "ps_data.drop_duplicates(subset='text',inplace=True,ignore_index=True)\n",
    "ps_data = ps_data[ps_data['label'].isin((0,1))]\n",
    "print(ps_data.shape)\n",
    "print(ps_data['label'].value_counts())\n",
    "## you can save this label cleaned dataset separately\n",
    "ps_data.head(5)"
   ]
  },
  {
   "cell_type": "markdown",
   "metadata": {},
   "source": [
    "## RR_Nepali_SA"
   ]
  },
  {
   "cell_type": "code",
   "execution_count": 16,
   "metadata": {},
   "outputs": [
    {
     "name": "stdout",
     "output_type": "stream",
     "text": [
      "(7996, 2)\n"
     ]
    },
    {
     "data": {
      "text/html": [
       "<div>\n",
       "<style scoped>\n",
       "    .dataframe tbody tr th:only-of-type {\n",
       "        vertical-align: middle;\n",
       "    }\n",
       "\n",
       "    .dataframe tbody tr th {\n",
       "        vertical-align: top;\n",
       "    }\n",
       "\n",
       "    .dataframe thead th {\n",
       "        text-align: right;\n",
       "    }\n",
       "</style>\n",
       "<table border=\"1\" class=\"dataframe\">\n",
       "  <thead>\n",
       "    <tr style=\"text-align: right;\">\n",
       "      <th></th>\n",
       "      <th>text</th>\n",
       "      <th>label</th>\n",
       "    </tr>\n",
       "  </thead>\n",
       "  <tbody>\n",
       "    <tr>\n",
       "      <th>0</th>\n",
       "      <td>बजार ले जसरी ट्रेन्ड चेन्ज गर्यो यो हेर्दा तत्...</td>\n",
       "      <td>2</td>\n",
       "    </tr>\n",
       "    <tr>\n",
       "      <th>1</th>\n",
       "      <td>1000 अंकले घटेको नेप्से 200 अंकले बढ्नु ठूलो क...</td>\n",
       "      <td>1</td>\n",
       "    </tr>\n",
       "    <tr>\n",
       "      <th>2</th>\n",
       "      <td>होइन यो सानिमा बैंक ले bonus घोसणा गरेको २ महि...</td>\n",
       "      <td>2</td>\n",
       "    </tr>\n",
       "    <tr>\n",
       "      <th>3</th>\n",
       "      <td>खैँ MBJC प्रति कित्तामा रू,10/-ले बढेर आज रू,1...</td>\n",
       "      <td>2</td>\n",
       "    </tr>\n",
       "    <tr>\n",
       "      <th>4</th>\n",
       "      <td>राम्रो भयो️️</td>\n",
       "      <td>1</td>\n",
       "    </tr>\n",
       "  </tbody>\n",
       "</table>\n",
       "</div>"
      ],
      "text/plain": [
       "                                                text label\n",
       "0  बजार ले जसरी ट्रेन्ड चेन्ज गर्यो यो हेर्दा तत्...     2\n",
       "1  1000 अंकले घटेको नेप्से 200 अंकले बढ्नु ठूलो क...     1\n",
       "2  होइन यो सानिमा बैंक ले bonus घोसणा गरेको २ महि...     2\n",
       "3  खैँ MBJC प्रति कित्तामा रू,10/-ले बढेर आज रू,1...     2\n",
       "4                                       राम्रो भयो️️     1"
      ]
     },
     "execution_count": 16,
     "metadata": {},
     "output_type": "execute_result"
    }
   ],
   "source": [
    "rr_data = pd.concat([pd.read_csv('source-RR_Nepali_SA/train.csv'),pd.read_csv('source-RR_Nepali_SA/test.csv')])\n",
    "print(rr_data.shape)\n",
    "rr_data.head(5)"
   ]
  },
  {
   "cell_type": "code",
   "execution_count": 17,
   "metadata": {},
   "outputs": [
    {
     "data": {
      "text/plain": [
       "(label\n",
       " 1     3266\n",
       " 0     2987\n",
       " 2     1732\n",
       " -        6\n",
       " o        2\n",
       " 20       1\n",
       " 11       1\n",
       " --       1\n",
       " Name: count, dtype: int64,\n",
       " text     object\n",
       " label    object\n",
       " dtype: object)"
      ]
     },
     "execution_count": 17,
     "metadata": {},
     "output_type": "execute_result"
    }
   ],
   "source": [
    "rr_data['label'].value_counts(), rr_data.dtypes"
   ]
  },
  {
   "cell_type": "code",
   "execution_count": 18,
   "metadata": {},
   "outputs": [
    {
     "data": {
      "text/plain": [
       "(label\n",
       " 1    2615\n",
       " 0    1904\n",
       " 2    1359\n",
       " Name: count, dtype: int64,\n",
       " text     object\n",
       " label    object\n",
       " dtype: object)"
      ]
     },
     "execution_count": 18,
     "metadata": {},
     "output_type": "execute_result"
    }
   ],
   "source": [
    "rr_data.dropna(inplace=True)\n",
    "rr_data.drop_duplicates(subset=['text'],inplace=True,ignore_index=True)\n",
    "rr_data.loc[rr_data['label'] == '1','label'] = 1\n",
    "rr_data.loc[rr_data['label'] == '2','label'] = 2\n",
    "rr_data.loc[rr_data['label'] == '0','label'] = 0\n",
    "rr_data = rr_data[rr_data['label'].isin((0,1,2))]\n",
    "\n",
    "## you can save this label cleaned dataset separately\n",
    "rr_data['label'].value_counts(), rr_data.dtypes"
   ]
  },
  {
   "cell_type": "code",
   "execution_count": 19,
   "metadata": {},
   "outputs": [
    {
     "data": {
      "text/plain": [
       "((5878, 2), (4572, 2), (4597, 2), (25, 2))"
      ]
     },
     "execution_count": 19,
     "metadata": {},
     "output_type": "execute_result"
    }
   ],
   "source": [
    "## Note: \n",
    "## It is found that PS_Nepali_SA is subset of RR_Nepali_SA\n",
    "## -----------------------------------------------------\n",
    "rr_data.shape, rr_data[rr_data['text'].isin(ps_data['text'])].shape, ps_data.shape, ps_data[~ps_data['text'].isin(rr_data['text'])].shape"
   ]
  },
  {
   "cell_type": "markdown",
   "metadata": {},
   "source": [
    "## S1_Nepali_SA"
   ]
  },
  {
   "cell_type": "code",
   "execution_count": 20,
   "metadata": {},
   "outputs": [
    {
     "name": "stdout",
     "output_type": "stream",
     "text": [
      "(7991, 2)\n"
     ]
    },
    {
     "data": {
      "text/html": [
       "<div>\n",
       "<style scoped>\n",
       "    .dataframe tbody tr th:only-of-type {\n",
       "        vertical-align: middle;\n",
       "    }\n",
       "\n",
       "    .dataframe tbody tr th {\n",
       "        vertical-align: top;\n",
       "    }\n",
       "\n",
       "    .dataframe thead th {\n",
       "        text-align: right;\n",
       "    }\n",
       "</style>\n",
       "<table border=\"1\" class=\"dataframe\">\n",
       "  <thead>\n",
       "    <tr style=\"text-align: right;\">\n",
       "      <th></th>\n",
       "      <th>text</th>\n",
       "      <th>label</th>\n",
       "    </tr>\n",
       "  </thead>\n",
       "  <tbody>\n",
       "    <tr>\n",
       "      <th>0</th>\n",
       "      <td>बजार ले जसरी ट्रेन्ड चेन्ज गर्यो यो हेर्दा तत्...</td>\n",
       "      <td>2</td>\n",
       "    </tr>\n",
       "    <tr>\n",
       "      <th>1</th>\n",
       "      <td>1000 अंकले घटेको नेप्से 200 अंकले बढ्नु ठूलो क...</td>\n",
       "      <td>1</td>\n",
       "    </tr>\n",
       "    <tr>\n",
       "      <th>2</th>\n",
       "      <td>होइन यो सानिमा बैंक ले bonus घोसणा गरेको २ महि...</td>\n",
       "      <td>2</td>\n",
       "    </tr>\n",
       "    <tr>\n",
       "      <th>3</th>\n",
       "      <td>खैँ MBJC प्रति कित्तामा रू,10/-ले बढेर आज रू,1...</td>\n",
       "      <td>2</td>\n",
       "    </tr>\n",
       "    <tr>\n",
       "      <th>4</th>\n",
       "      <td>राम्रो भयो️️</td>\n",
       "      <td>1</td>\n",
       "    </tr>\n",
       "  </tbody>\n",
       "</table>\n",
       "</div>"
      ],
      "text/plain": [
       "                                                text  label\n",
       "0  बजार ले जसरी ट्रेन्ड चेन्ज गर्यो यो हेर्दा तत्...      2\n",
       "1  1000 अंकले घटेको नेप्से 200 अंकले बढ्नु ठूलो क...      1\n",
       "2  होइन यो सानिमा बैंक ले bonus घोसणा गरेको २ महि...      2\n",
       "3  खैँ MBJC प्रति कित्तामा रू,10/-ले बढेर आज रू,1...      2\n",
       "4                                       राम्रो भयो️️      1"
      ]
     },
     "execution_count": 20,
     "metadata": {},
     "output_type": "execute_result"
    }
   ],
   "source": [
    "s1_data = pd.read_csv('source-S1_Nepali_SA/train.csv')\n",
    "print(s1_data.shape)\n",
    "s1_data.head(5)"
   ]
  },
  {
   "cell_type": "code",
   "execution_count": 21,
   "metadata": {},
   "outputs": [
    {
     "data": {
      "text/plain": [
       "((5901, 2),\n",
       " text     object\n",
       " label     int64\n",
       " dtype: object,\n",
       " label\n",
       " 1    2772\n",
       " 0    1662\n",
       " 2    1467\n",
       " Name: count, dtype: int64)"
      ]
     },
     "execution_count": 21,
     "metadata": {},
     "output_type": "execute_result"
    }
   ],
   "source": [
    "s1_data.dropna(inplace=True)\n",
    "s1_data.drop_duplicates(subset=['text'],inplace=True,ignore_index=True)\n",
    "\n",
    "s1_data.shape, s1_data.dtypes, s1_data['label'].value_counts()"
   ]
  },
  {
   "cell_type": "code",
   "execution_count": 22,
   "metadata": {},
   "outputs": [
    {
     "data": {
      "text/plain": [
       "((5870, 2), (5878, 2))"
      ]
     },
     "execution_count": 22,
     "metadata": {},
     "output_type": "execute_result"
    }
   ],
   "source": [
    "## Note:\n",
    "## It is found that s1_data and rr_data is also same\n",
    "s1_data[s1_data['text'].isin(rr_data['text'])].shape, rr_data.shape"
   ]
  },
  {
   "cell_type": "code",
   "execution_count": 23,
   "metadata": {},
   "outputs": [
    {
     "data": {
      "text/html": [
       "<div>\n",
       "<style scoped>\n",
       "    .dataframe tbody tr th:only-of-type {\n",
       "        vertical-align: middle;\n",
       "    }\n",
       "\n",
       "    .dataframe tbody tr th {\n",
       "        vertical-align: top;\n",
       "    }\n",
       "\n",
       "    .dataframe thead th {\n",
       "        text-align: right;\n",
       "    }\n",
       "</style>\n",
       "<table border=\"1\" class=\"dataframe\">\n",
       "  <thead>\n",
       "    <tr style=\"text-align: right;\">\n",
       "      <th></th>\n",
       "      <th>text</th>\n",
       "      <th>label</th>\n",
       "    </tr>\n",
       "  </thead>\n",
       "  <tbody>\n",
       "    <tr>\n",
       "      <th>118</th>\n",
       "      <td>किन ल्याको यसलाई ? सत्तरी करोडको अनुहार देख्न ...</td>\n",
       "      <td>0</td>\n",
       "    </tr>\n",
       "    <tr>\n",
       "      <th>119</th>\n",
       "      <td>यस्ता भ्रष्टहरुलाई रोजेर पठाउने हामी जनता कस्त...</td>\n",
       "      <td>0</td>\n",
       "    </tr>\n",
       "    <tr>\n",
       "      <th>122</th>\n",
       "      <td>यो चोरलाइ किन घरीघरी अन्तरबार्ताको लागि बोलाउछ...</td>\n",
       "      <td>0</td>\n",
       "    </tr>\n",
       "    <tr>\n",
       "      <th>123</th>\n",
       "      <td>70 करोड वाला अझ कति चुरिफुरी गर्छ थुक्क</td>\n",
       "      <td>0</td>\n",
       "    </tr>\n",
       "    <tr>\n",
       "      <th>124</th>\n",
       "      <td>बो लकड … ओलीको लकड गोकुल जी</td>\n",
       "      <td>0</td>\n",
       "    </tr>\n",
       "    <tr>\n",
       "      <th>...</th>\n",
       "      <td>...</td>\n",
       "      <td>...</td>\n",
       "    </tr>\n",
       "    <tr>\n",
       "      <th>2864</th>\n",
       "      <td>खाना खानु भयो?</td>\n",
       "      <td>1</td>\n",
       "    </tr>\n",
       "    <tr>\n",
       "      <th>2865</th>\n",
       "      <td>किन गर्छौ य जातको कुरा</td>\n",
       "      <td>1</td>\n",
       "    </tr>\n",
       "    <tr>\n",
       "      <th>4564</th>\n",
       "      <td>कति हास्नु यो कोरना ले यि गाइको अनुहार परेका ग...</td>\n",
       "      <td>0</td>\n",
       "    </tr>\n",
       "    <tr>\n",
       "      <th>4565</th>\n",
       "      <td>नरणाथ जि को कुरा 101% सहि छ किन भने एउटा नेता ...</td>\n",
       "      <td>0</td>\n",
       "    </tr>\n",
       "    <tr>\n",
       "      <th>4570</th>\n",
       "      <td>थिएन कि क्या हो ।। राति उधो पनि कालो चसमा लगाक...</td>\n",
       "      <td>0</td>\n",
       "    </tr>\n",
       "  </tbody>\n",
       "</table>\n",
       "<p>165 rows × 2 columns</p>\n",
       "</div>"
      ],
      "text/plain": [
       "                                                   text  label\n",
       "118   किन ल्याको यसलाई ? सत्तरी करोडको अनुहार देख्न ...      0\n",
       "119   यस्ता भ्रष्टहरुलाई रोजेर पठाउने हामी जनता कस्त...      0\n",
       "122   यो चोरलाइ किन घरीघरी अन्तरबार्ताको लागि बोलाउछ...      0\n",
       "123             70 करोड वाला अझ कति चुरिफुरी गर्छ थुक्क      0\n",
       "124                         बो लकड … ओलीको लकड गोकुल जी      0\n",
       "...                                                 ...    ...\n",
       "2864                                     खाना खानु भयो?      1\n",
       "2865                             किन गर्छौ य जातको कुरा      1\n",
       "4564  कति हास्नु यो कोरना ले यि गाइको अनुहार परेका ग...      0\n",
       "4565  नरणाथ जि को कुरा 101% सहि छ किन भने एउटा नेता ...      0\n",
       "4570  थिएन कि क्या हो ।। राति उधो पनि कालो चसमा लगाक...      0\n",
       "\n",
       "[165 rows x 2 columns]"
      ]
     },
     "execution_count": 23,
     "metadata": {},
     "output_type": "execute_result"
    }
   ],
   "source": [
    "ps_data[ps_data['text'] == s1_data[s1_data['label'] == 0].iloc[0]['text']], s1_data[s1_data['label'] == 0].iloc[0]\n",
    "ps_data[ps_data['text'].isin(s1_data[s1_data['label'] == 2]['text'])]"
   ]
  },
  {
   "cell_type": "markdown",
   "metadata": {},
   "source": [
    "# Merging Data"
   ]
  },
  {
   "cell_type": "markdown",
   "metadata": {},
   "source": [
    "## 2 Class Sentiment Data\n",
    "> If you are interested in 2 class sentiment analysis, then you should use Movie Reviews, NepCov19Tweets(Plus), NepQuake15, and PS_Nepali_SA data."
   ]
  },
  {
   "cell_type": "code",
   "execution_count": 24,
   "metadata": {},
   "outputs": [
    {
     "data": {
      "text/plain": [
       "((35233, 2),\n",
       " label\n",
       " 1    18760\n",
       " 0    16473\n",
       " Name: count, dtype: int64)"
      ]
     },
     "execution_count": 24,
     "metadata": {},
     "output_type": "execute_result"
    }
   ],
   "source": [
    "dataset_2class = pd.concat([mr_data,nepCov_data,nqk_data,ps_data])\n",
    "dataset_2class = dataset_2class[dataset_2class['label'].isin((0,1))]\n",
    "\n",
    "dataset_2class.shape, dataset_2class['label'].value_counts()"
   ]
  },
  {
   "cell_type": "code",
   "execution_count": 33,
   "metadata": {},
   "outputs": [],
   "source": [
    "dataset_2class.to_csv('2class_dataset.csv')"
   ]
  },
  {
   "cell_type": "markdown",
   "metadata": {},
   "source": [
    "## 3 Class Sentiment Data\n",
    "> If you are interested in 3 class sentiment analysis, then you should use NepCov19Tweets, NepQuake15, and S1_Nepali_SA data.\n",
    "\n",
    "*We can observe in the dataset that S1_Nepali_SA, RR_Nepali_SA, and PS_Nepali_SA contains same source texts with different labels assigned. S1_Nepali_SA and RR_Nepali_SA are pretty much identical with very few differences. But, PS_Nepali_SA is 2 class sentiment dataset and many of the neutral class data has be re-labeled to either positive or negative.*\n",
    "\n",
    "*Note: NepCov19TweetsPlus can be downloaded from huggingface_hub and same processing steps as used for NepCov19Tweets can be used.*"
   ]
  },
  {
   "cell_type": "code",
   "execution_count": 25,
   "metadata": {},
   "outputs": [
    {
     "data": {
      "text/plain": [
       "((42419, 2),\n",
       " label\n",
       " 1    18704\n",
       " 0    16366\n",
       " 2     7349\n",
       " Name: count, dtype: int64)"
      ]
     },
     "execution_count": 25,
     "metadata": {},
     "output_type": "execute_result"
    }
   ],
   "source": [
    "dataset_3class = pd.concat([mr_data,nepCov_data,nqk_data,s1_data])\n",
    "\n",
    "dataset_3class.shape, dataset_3class['label'].value_counts()"
   ]
  },
  {
   "cell_type": "markdown",
   "metadata": {},
   "source": [
    "### NepCov19TweetsPlus"
   ]
  },
  {
   "cell_type": "code",
   "execution_count": 26,
   "metadata": {},
   "outputs": [
    {
     "name": "stderr",
     "output_type": "stream",
     "text": [
      "e:\\Repositories-Personal\\Python-Projex\\NLP-DataCollection\\Text-Sentiment-Annotation\\NLP\\Lib\\site-packages\\tqdm\\auto.py:21: TqdmWarning: IProgress not found. Please update jupyter and ipywidgets. See https://ipywidgets.readthedocs.io/en/stable/user_install.html\n",
      "  from .autonotebook import tqdm as notebook_tqdm\n"
     ]
    },
    {
     "data": {
      "text/plain": [
       "DatasetDict({\n",
       "    train: Dataset({\n",
       "        features: ['Sentiment', 'Sentences'],\n",
       "        num_rows: 41541\n",
       "    })\n",
       "})"
      ]
     },
     "execution_count": 26,
     "metadata": {},
     "output_type": "execute_result"
    }
   ],
   "source": [
    "import datasets\n",
    "\n",
    "ncplus = datasets.load_dataset('raygx/NepCov19TweetsPlus')\n",
    "ncplus"
   ]
  },
  {
   "cell_type": "code",
   "execution_count": 27,
   "metadata": {},
   "outputs": [
    {
     "name": "stdout",
     "output_type": "stream",
     "text": [
      "(41541, 2)\n"
     ]
    },
    {
     "data": {
      "text/html": [
       "<div>\n",
       "<style scoped>\n",
       "    .dataframe tbody tr th:only-of-type {\n",
       "        vertical-align: middle;\n",
       "    }\n",
       "\n",
       "    .dataframe tbody tr th {\n",
       "        vertical-align: top;\n",
       "    }\n",
       "\n",
       "    .dataframe thead th {\n",
       "        text-align: right;\n",
       "    }\n",
       "</style>\n",
       "<table border=\"1\" class=\"dataframe\">\n",
       "  <thead>\n",
       "    <tr style=\"text-align: right;\">\n",
       "      <th></th>\n",
       "      <th>label</th>\n",
       "      <th>text</th>\n",
       "    </tr>\n",
       "  </thead>\n",
       "  <tbody>\n",
       "    <tr>\n",
       "      <th>0</th>\n",
       "      <td>-1</td>\n",
       "      <td>अमेरिकामा कोभिड बाट एकै दिन चार हजारभन्दा बढीक...</td>\n",
       "    </tr>\n",
       "    <tr>\n",
       "      <th>1</th>\n",
       "      <td>-1</td>\n",
       "      <td>कोभिड का कारण विदेशमा रहेका नेपालीहरुमा मानसिक...</td>\n",
       "    </tr>\n",
       "    <tr>\n",
       "      <th>2</th>\n",
       "      <td>1</td>\n",
       "      <td>नेपालमा क्लोभर बायोफार्मास्युटिकल्स अस्ट्रेलिय...</td>\n",
       "    </tr>\n",
       "    <tr>\n",
       "      <th>3</th>\n",
       "      <td>0</td>\n",
       "      <td>कोभिड को खोप पनि लगाइयो</td>\n",
       "    </tr>\n",
       "    <tr>\n",
       "      <th>4</th>\n",
       "      <td>-1</td>\n",
       "      <td>अमेरिकामा कोभिड को नयाँ रेकर्ड एकै दिन हजारभन्...</td>\n",
       "    </tr>\n",
       "  </tbody>\n",
       "</table>\n",
       "</div>"
      ],
      "text/plain": [
       "   label                                               text\n",
       "0     -1  अमेरिकामा कोभिड बाट एकै दिन चार हजारभन्दा बढीक...\n",
       "1     -1  कोभिड का कारण विदेशमा रहेका नेपालीहरुमा मानसिक...\n",
       "2      1  नेपालमा क्लोभर बायोफार्मास्युटिकल्स अस्ट्रेलिय...\n",
       "3      0                            कोभिड को खोप पनि लगाइयो\n",
       "4     -1  अमेरिकामा कोभिड को नयाँ रेकर्ड एकै दिन हजारभन्..."
      ]
     },
     "execution_count": 27,
     "metadata": {},
     "output_type": "execute_result"
    }
   ],
   "source": [
    "ncplus = pd.DataFrame(ncplus['train'])\n",
    "ncplus.rename(columns={\"Sentiment\":\"label\",\"Sentences\":\"text\"},inplace=True)\n",
    "print(ncplus.shape)\n",
    "ncplus.head(5)"
   ]
  },
  {
   "cell_type": "code",
   "execution_count": 28,
   "metadata": {},
   "outputs": [
    {
     "name": "stdout",
     "output_type": "stream",
     "text": [
      "label\n",
      "1    14989\n",
      "0    13598\n",
      "2    12954\n",
      "Name: count, dtype: int64\n",
      "label     int64\n",
      "text     object\n",
      "dtype: object\n",
      "(41541, 2)\n"
     ]
    }
   ],
   "source": [
    "ncplus.loc[(ncplus['label'] == 0),'label'] = 2 # Neutral\n",
    "ncplus.loc[(ncplus['label'] == -1), 'label'] = 0 # Negative\n",
    "ncplus.loc[(ncplus['label'] == 1), 'label'] = 1 # Positive\n",
    "print(ncplus['label'].value_counts())\n",
    "print(ncplus.dtypes)\n",
    "print(ncplus.shape)"
   ]
  },
  {
   "cell_type": "code",
   "execution_count": 30,
   "metadata": {},
   "outputs": [
    {
     "data": {
      "text/html": [
       "<div>\n",
       "<style scoped>\n",
       "    .dataframe tbody tr th:only-of-type {\n",
       "        vertical-align: middle;\n",
       "    }\n",
       "\n",
       "    .dataframe tbody tr th {\n",
       "        vertical-align: top;\n",
       "    }\n",
       "\n",
       "    .dataframe thead th {\n",
       "        text-align: right;\n",
       "    }\n",
       "</style>\n",
       "<table border=\"1\" class=\"dataframe\">\n",
       "  <thead>\n",
       "    <tr style=\"text-align: right;\">\n",
       "      <th></th>\n",
       "      <th>text</th>\n",
       "      <th>label</th>\n",
       "    </tr>\n",
       "  </thead>\n",
       "  <tbody>\n",
       "    <tr>\n",
       "      <th>0</th>\n",
       "      <td>म एक शिक्षक , शिक्षा क्षेत्रमा रमाएको मान्छे ।...</td>\n",
       "      <td>1</td>\n",
       "    </tr>\n",
       "    <tr>\n",
       "      <th>1</th>\n",
       "      <td>म सरकारी स्कूल/कलेजमा पढेर करीब १२ बर्ष भन्दा ...</td>\n",
       "      <td>1</td>\n",
       "    </tr>\n",
       "    <tr>\n",
       "      <th>2</th>\n",
       "      <td>कति राम्रो शिव मन्दिर देख्न पाइयो कुन ठाउको हो...</td>\n",
       "      <td>1</td>\n",
       "    </tr>\n",
       "    <tr>\n",
       "      <th>3</th>\n",
       "      <td>मारुनी भन्ने वितिकै सामान्य नाचनीमा आधारित कथा...</td>\n",
       "      <td>1</td>\n",
       "    </tr>\n",
       "    <tr>\n",
       "      <th>4</th>\n",
       "      <td>यो फ्लिम हेरिसकेपछी थाहा भयो कि किन दर्सकहरुले...</td>\n",
       "      <td>1</td>\n",
       "    </tr>\n",
       "    <tr>\n",
       "      <th>...</th>\n",
       "      <td>...</td>\n",
       "      <td>...</td>\n",
       "    </tr>\n",
       "    <tr>\n",
       "      <th>41536</th>\n",
       "      <td>कोरोना महामारीमा जीवन बीमाको अग्निपरीक्षा</td>\n",
       "      <td>2</td>\n",
       "    </tr>\n",
       "    <tr>\n",
       "      <th>41537</th>\n",
       "      <td>कोरोना महामारीले लाखौँको तरकारी नष्ट</td>\n",
       "      <td>2</td>\n",
       "    </tr>\n",
       "    <tr>\n",
       "      <th>41538</th>\n",
       "      <td>कोरोना महामारी रोकथाम र नियन्त्रणका लागि यस्तो...</td>\n",
       "      <td>2</td>\n",
       "    </tr>\n",
       "    <tr>\n",
       "      <th>41539</th>\n",
       "      <td>कोरोना महामारीको क्रममा अनुगमनमा निस्किए प्रदे...</td>\n",
       "      <td>2</td>\n",
       "    </tr>\n",
       "    <tr>\n",
       "      <th>41540</th>\n",
       "      <td>कोरोनाको महामारीबीच सकियो बिस्केट जात्रा</td>\n",
       "      <td>2</td>\n",
       "    </tr>\n",
       "  </tbody>\n",
       "</table>\n",
       "<p>50487 rows × 2 columns</p>\n",
       "</div>"
      ],
      "text/plain": [
       "                                                    text label\n",
       "0      म एक शिक्षक , शिक्षा क्षेत्रमा रमाएको मान्छे ।...     1\n",
       "1      म सरकारी स्कूल/कलेजमा पढेर करीब १२ बर्ष भन्दा ...     1\n",
       "2      कति राम्रो शिव मन्दिर देख्न पाइयो कुन ठाउको हो...     1\n",
       "3      मारुनी भन्ने वितिकै सामान्य नाचनीमा आधारित कथा...     1\n",
       "4      यो फ्लिम हेरिसकेपछी थाहा भयो कि किन दर्सकहरुले...     1\n",
       "...                                                  ...   ...\n",
       "41536          कोरोना महामारीमा जीवन बीमाको अग्निपरीक्षा     2\n",
       "41537               कोरोना महामारीले लाखौँको तरकारी नष्ट     2\n",
       "41538  कोरोना महामारी रोकथाम र नियन्त्रणका लागि यस्तो...     2\n",
       "41539  कोरोना महामारीको क्रममा अनुगमनमा निस्किए प्रदे...     2\n",
       "41540           कोरोनाको महामारीबीच सकियो बिस्केट जात्रा     2\n",
       "\n",
       "[50487 rows x 2 columns]"
      ]
     },
     "execution_count": 30,
     "metadata": {},
     "output_type": "execute_result"
    }
   ],
   "source": [
    "dataset_3class = pd.concat([dataset_3class,ncplus]).drop_duplicates()\n",
    "dataset_3class"
   ]
  },
  {
   "cell_type": "code",
   "execution_count": 31,
   "metadata": {},
   "outputs": [
    {
     "data": {
      "text/plain": [
       "label\n",
       "1    18690\n",
       "0    16361\n",
       "2    15436\n",
       "Name: count, dtype: int64"
      ]
     },
     "execution_count": 31,
     "metadata": {},
     "output_type": "execute_result"
    }
   ],
   "source": [
    "dataset_3class['label'].value_counts()"
   ]
  },
  {
   "cell_type": "code",
   "execution_count": 32,
   "metadata": {},
   "outputs": [],
   "source": [
    "dataset_3class.to_csv('3class_dataset.csv')"
   ]
  },
  {
   "cell_type": "markdown",
   "metadata": {},
   "source": [
    "# Other Data Sources"
   ]
  },
  {
   "cell_type": "code",
   "execution_count": 3,
   "metadata": {},
   "outputs": [
    {
     "data": {
      "text/plain": [
       "(43774, 2)"
      ]
     },
     "execution_count": 3,
     "metadata": {},
     "output_type": "execute_result"
    }
   ],
   "source": [
    "\n",
    "data_train = pd.read_csv(\"https://raw.githubusercontent.com/ecabott/nepali-sentiment-analysis/main/datasets/train.csv\")\n",
    "data_test =  pd.read_csv(\"https://raw.githubusercontent.com/ecabott/nepali-sentiment-analysis/main/datasets/test.csv\")\n",
    "data = pd.concat([data_test,data_train])\n",
    "data.shape"
   ]
  },
  {
   "cell_type": "code",
   "execution_count": null,
   "metadata": {},
   "outputs": [],
   "source": []
  }
 ],
 "metadata": {
  "kernelspec": {
   "display_name": "NLP",
   "language": "python",
   "name": "python3"
  },
  "language_info": {
   "codemirror_mode": {
    "name": "ipython",
    "version": 3
   },
   "file_extension": ".py",
   "mimetype": "text/x-python",
   "name": "python",
   "nbconvert_exporter": "python",
   "pygments_lexer": "ipython3",
   "version": "3.12.1"
  }
 },
 "nbformat": 4,
 "nbformat_minor": 2
}
